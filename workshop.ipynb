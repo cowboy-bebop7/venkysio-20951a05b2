{
 "cells": [
  {
   "cell_type": "code",
   "execution_count": 6,
   "metadata": {},
   "outputs": [
    {
     "name": "stdout",
     "output_type": "stream",
     "text": [
      "dlrow olleh\n"
     ]
    }
   ],
   "source": [
    "def reverse_string(s):\n",
    "    if len(s) == 0:\n",
    "        return s\n",
    "    else:\n",
    "        return reverse_string(s[1:]) + s[0]\n",
    "\n",
    "string_to_reverse = input()\n",
    "reversed_string = reverse_string(string_to_reverse)\n",
    "print(reversed_string)\n"
   ]
  },
  {
   "cell_type": "code",
   "execution_count": 9,
   "metadata": {},
   "outputs": [
    {
     "name": "stdout",
     "output_type": "stream",
     "text": [
      "Reversed String: olleh\n"
     ]
    }
   ],
   "source": [
    "import threading\n",
    "\n",
    "class reverse_string(threading.Thread):\n",
    "    def __init__ (self,input_str):\n",
    "        threading.Thread.__init__(self)\n",
    "        self.input_str = input_str\n",
    "    def run(self) -> None:\n",
    "        reverse_string = self.input_str[::-1]\n",
    "        print(\"Reversed String:\",reverse_string)\n",
    "\n",
    "str = input()\n",
    "reverse_string = reverse_string(str)\n",
    "reverse_string.start()"
   ]
  }
 ],
 "metadata": {
  "kernelspec": {
   "display_name": "Python 3",
   "language": "python",
   "name": "python3"
  },
  "language_info": {
   "codemirror_mode": {
    "name": "ipython",
    "version": 3
   },
   "file_extension": ".py",
   "mimetype": "text/x-python",
   "name": "python",
   "nbconvert_exporter": "python",
   "pygments_lexer": "ipython3",
   "version": "3.11.0"
  },
  "orig_nbformat": 4,
  "vscode": {
   "interpreter": {
    "hash": "aee8b7b246df8f9039afb4144a1f6fd8d2ca17a180786b69acc140d282b71a49"
   }
  }
 },
 "nbformat": 4,
 "nbformat_minor": 2
}
